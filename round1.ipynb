{
 "cells": [
  {
   "cell_type": "code",
   "execution_count": 1,
   "metadata": {},
   "outputs": [
    {
     "name": "stdout",
     "output_type": "stream",
     "text": [
      "profile    0\n",
      "posts      0\n",
      "dtype: int64\n",
      "Unnamed: 0    0\n",
      "label         0\n",
      "dtype: int64\n"
     ]
    }
   ],
   "source": [
    "import numpy as np\n",
    "from sklearn.feature_extraction.text import TfidfVectorizer\n",
    "import pandas as pd\n",
    "import json\n",
    "\n",
    "\n",
    "classification_labels = pd.read_csv('train-classification.csv')\n",
    "filepath = 'training-dataset.jsonl'\n",
    "training_data = pd.read_json(filepath, lines=True)\n",
    "print(training_data.isnull().sum())\n",
    "print(classification_labels.isnull().sum())\n",
    "# training dataset and training classification files retrieved.\n",
    "\n",
    "\n",
    "\n"
   ]
  }
 ],
 "metadata": {
  "kernelspec": {
   "display_name": "Python 3",
   "language": "python",
   "name": "python3"
  },
  "language_info": {
   "codemirror_mode": {
    "name": "ipython",
    "version": 3
   },
   "file_extension": ".py",
   "mimetype": "text/x-python",
   "name": "python",
   "nbconvert_exporter": "python",
   "pygments_lexer": "ipython3",
   "version": "3.12.8"
  }
 },
 "nbformat": 4,
 "nbformat_minor": 2
}
